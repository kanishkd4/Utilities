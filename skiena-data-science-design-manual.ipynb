{
 "cells": [
  {
   "cell_type": "code",
   "execution_count": 1,
   "metadata": {},
   "outputs": [],
   "source": [
    "from kanishk_utils import *"
   ]
  },
  {
   "cell_type": "code",
   "execution_count": 2,
   "metadata": {},
   "outputs": [],
   "source": [
    "import scipy"
   ]
  },
  {
   "cell_type": "markdown",
   "metadata": {},
   "source": [
    "https://www.rapidtables.com/math/symbols/Basic_Math_Symbols.html <br>\n",
    "https://davidhamann.de/2017/06/12/latex-cheat-sheet/ <br>\n",
    "https://learnxinyminutes.com/docs/latex/"
   ]
  },
  {
   "cell_type": "code",
   "execution_count": 3,
   "metadata": {
    "scrolled": true
   },
   "outputs": [
    {
     "data": {
      "text/latex": [
       "To be precise, regardless of how your data is distributed, at least\\[1-(1/k^2)\\]th of the mass must lie within +/-k standard deviations of the mean.<br>\n",
       "This means that at least 75% of all the data must lie within 2 sigma of the mean,\n",
       "and almost 89% within 3 sigma for any distribution."
      ],
      "text/plain": [
       "<IPython.core.display.Latex object>"
      ]
     },
     "metadata": {},
     "output_type": "display_data"
    }
   ],
   "source": [
    "%%latex\n",
    "To be precise, regardless of how your data is distributed, at least\\[1-(1/k^2)\\]th of the mass must lie within +/-k standard deviations of the mean.<br>\n",
    "This means that at least 75% of all the data must lie within 2 sigma of the mean,\n",
    "and almost 89% within 3 sigma for any distribution."
   ]
  },
  {
   "cell_type": "code",
   "execution_count": 4,
   "metadata": {
    "scrolled": false
   },
   "outputs": [
    {
     "data": {
      "text/plain": [
       "0.75"
      ]
     },
     "execution_count": 4,
     "metadata": {},
     "output_type": "execute_result"
    },
    {
     "data": {
      "text/plain": [
       "0.8888888888888888"
      ]
     },
     "execution_count": 4,
     "metadata": {},
     "output_type": "execute_result"
    }
   ],
   "source": [
    "1 - np.power(1/2, 2)\n",
    "1 - np.power(1/3, 2)"
   ]
  },
  {
   "cell_type": "code",
   "execution_count": null,
   "metadata": {},
   "outputs": [],
   "source": []
  },
  {
   "cell_type": "code",
   "execution_count": 5,
   "metadata": {},
   "outputs": [
    {
     "data": {
      "text/latex": [
       "# Covariance\n",
       "\n",
       "\\begin{equation}\n",
       "\\frac{\\sum_{i=1}^{n} (X_i-\\overline{X}) (Y_i-\\overline{Y})} {\\sqrt[]{\\sum_{i=1}^{n} (X_i-\\overline{X})^2} \n",
       "                                                             \\sqrt[]{\\sum_{i=1}^{n} (Y_i-\\overline{Y})^2}}\n",
       "\\end{equation}"
      ],
      "text/plain": [
       "<IPython.core.display.Latex object>"
      ]
     },
     "metadata": {},
     "output_type": "display_data"
    }
   ],
   "source": [
    "%%latex\n",
    "# Covariance\n",
    "\n",
    "\\begin{equation}\n",
    "\\frac{\\sum_{i=1}^{n} (X_i-\\overline{X}) (Y_i-\\overline{Y})} {\\sqrt[]{\\sum_{i=1}^{n} (X_i-\\overline{X})^2} \n",
    "                                                             \\sqrt[]{\\sum_{i=1}^{n} (Y_i-\\overline{Y})^2}}\n",
    "\\end{equation}"
   ]
  },
  {
   "cell_type": "code",
   "execution_count": 6,
   "metadata": {
    "scrolled": true
   },
   "outputs": [
    {
     "data": {
      "text/latex": [
       "\\[\\ y = log_b^x <-> b^y = x\\]"
      ],
      "text/plain": [
       "<IPython.core.display.Latex object>"
      ]
     },
     "metadata": {},
     "output_type": "display_data"
    }
   ],
   "source": [
    "%%latex\n",
    "\\[\\ y = log_b^x <-> b^y = x\\]"
   ]
  },
  {
   "cell_type": "code",
   "execution_count": 7,
   "metadata": {
    "scrolled": true
   },
   "outputs": [
    {
     "data": {
      "text/latex": [
       "# z score\n",
       "\\[\\ z = \\frac{x - \\overline{x}}{\\sigma} \\]"
      ],
      "text/plain": [
       "<IPython.core.display.Latex object>"
      ]
     },
     "metadata": {},
     "output_type": "display_data"
    }
   ],
   "source": [
    "%%latex\n",
    "# z score\n",
    "\\[\\ z = \\frac{x - \\overline{x}}{\\sigma} \\]"
   ]
  },
  {
   "cell_type": "code",
   "execution_count": 8,
   "metadata": {
    "scrolled": true
   },
   "outputs": [
    {
     "data": {
      "text/latex": [
       "# logit function\n",
       "\\[\\ F(x) = \\frac{1}{1 + e^{cx}}\\]"
      ],
      "text/plain": [
       "<IPython.core.display.Latex object>"
      ]
     },
     "metadata": {},
     "output_type": "display_data"
    }
   ],
   "source": [
    "%%latex\n",
    "# logit function\n",
    "\\[\\ F(x) = \\frac{1}{1 + e^{cx}}\\]"
   ]
  },
  {
   "cell_type": "code",
   "execution_count": 4,
   "metadata": {},
   "outputs": [
    {
     "data": {
      "text/latex": [
       "# power law\n",
       "\\[P(X=x) = cx^{-a}\\]"
      ],
      "text/plain": [
       "<IPython.core.display.Latex object>"
      ]
     },
     "metadata": {},
     "output_type": "display_data"
    }
   ],
   "source": [
    "%%latex\n",
    "# power law\n",
    "\\[P(X=x) = cx^{-a}\\]"
   ]
  },
  {
   "cell_type": "code",
   "execution_count": 9,
   "metadata": {},
   "outputs": [
    {
     "data": {
      "text/latex": [
       "# Covariance\n",
       "\n",
       "\\begin{equation}\n",
       "\\sum_{i=1}^{n} (X_i-\\overline{X}) (Y_i-\\overline{Y})\n",
       "\\end{equation}"
      ],
      "text/plain": [
       "<IPython.core.display.Latex object>"
      ]
     },
     "metadata": {},
     "output_type": "display_data"
    }
   ],
   "source": [
    "%%latex\n",
    "# Covariance\n",
    "\n",
    "\\begin{equation}\n",
    "\\sum_{i=1}^{n} (X_i-\\overline{X}) (Y_i-\\overline{Y})\n",
    "\\end{equation}"
   ]
  },
  {
   "cell_type": "code",
   "execution_count": 10,
   "metadata": {
    "scrolled": true
   },
   "outputs": [
    {
     "data": {
      "text/latex": [
       "# Pearson correlation can also be written as\n",
       "\\[\\frac{Cov(X, Y)}{\\sigma{(X)}\\sigma{(Y)}}\\]"
      ],
      "text/plain": [
       "<IPython.core.display.Latex object>"
      ]
     },
     "metadata": {},
     "output_type": "display_data"
    }
   ],
   "source": [
    "%%latex\n",
    "# Pearson correlation can also be written as\n",
    "\\[\\frac{Cov(X, Y)}{\\sigma{(X)}\\sigma{(Y)}}\\]"
   ]
  },
  {
   "cell_type": "code",
   "execution_count": 11,
   "metadata": {
    "scrolled": true
   },
   "outputs": [
    {
     "data": {
      "text/plain": [
       "array([[1.        , 0.59603956],\n",
       "       [0.59603956, 1.        ]])"
      ]
     },
     "execution_count": 11,
     "metadata": {},
     "output_type": "execute_result"
    },
    {
     "data": {
      "text/plain": [
       "0.5960395606792698"
      ]
     },
     "execution_count": 11,
     "metadata": {},
     "output_type": "execute_result"
    }
   ],
   "source": [
    "a = [1, 2, 2]\n",
    "b = [2, 3, 10]\n",
    "np.corrcoef(a, b)\n",
    "numerator = 0\n",
    "den1 = 0\n",
    "den2 = 0\n",
    "for i in range(len(a)):\n",
    "    numerator += (a[i]-np.mean(a))*(b[i]-np.mean(b)) # covariance\n",
    "    den1 += np.power(a[i]-np.mean(a), 2)\n",
    "    den2 += np.power(b[i]-np.mean(b), 2)\n",
    "numerator/(np.sqrt(den1) * np.sqrt(den2))"
   ]
  },
  {
   "cell_type": "markdown",
   "metadata": {},
   "source": [
    "Spearman rank correlation"
   ]
  },
  {
   "cell_type": "markdown",
   "metadata": {},
   "source": [
    "1 - (6 * (Di^2 for i from 1 to n)) / (n(n^2 - 1))<Br>\n",
    "where Di = rank(Xi) - rank(Yi)"
   ]
  },
  {
   "cell_type": "code",
   "execution_count": 11,
   "metadata": {},
   "outputs": [
    {
     "data": {
      "text/latex": [
       "\\[p = 1 = \\frac{6\\sum{d_i^2}}{n(n^2 - 1)} \\] \n",
       "where\n",
       "\\[D_i = rank(X_i) - rank(Y_i)\\]"
      ],
      "text/plain": [
       "<IPython.core.display.Latex object>"
      ]
     },
     "metadata": {},
     "output_type": "display_data"
    }
   ],
   "source": [
    "%%latex\n",
    "\\[p = 1 = \\frac{6\\sum{d_i^2}}{n(n^2 - 1)} \\] \n",
    "where\n",
    "\\[D_i = rank(X_i) - rank(Y_i)\\]"
   ]
  },
  {
   "cell_type": "code",
   "execution_count": 15,
   "metadata": {},
   "outputs": [
    {
     "data": {
      "text/latex": [
       "\\[P(A/B) = P(A \\cap B)/P(B)\\]"
      ],
      "text/plain": [
       "<IPython.core.display.Latex object>"
      ]
     },
     "metadata": {},
     "output_type": "display_data"
    }
   ],
   "source": [
    "%%latex\n",
    "\\[P(A/B) = P(A \\cap B)/P(B)\\]"
   ]
  },
  {
   "cell_type": "code",
   "execution_count": 12,
   "metadata": {
    "scrolled": true
   },
   "outputs": [
    {
     "data": {
      "text/plain": [
       "SpearmanrResult(correlation=0.8660254037844387, pvalue=0.3333333333333332)"
      ]
     },
     "execution_count": 12,
     "metadata": {},
     "output_type": "execute_result"
    }
   ],
   "source": [
    "scipy.stats.spearmanr(a, b)"
   ]
  },
  {
   "cell_type": "code",
   "execution_count": 13,
   "metadata": {
    "scrolled": true
   },
   "outputs": [
    {
     "data": {
      "text/latex": [
       "# Cohen's D\n",
       "\\[\\ d = \\frac{(|\\mu - \\mu'|)}{\\sigma}\\]"
      ],
      "text/plain": [
       "<IPython.core.display.Latex object>"
      ]
     },
     "metadata": {},
     "output_type": "display_data"
    }
   ],
   "source": [
    "%%latex\n",
    "# Cohen's D\n",
    "\\[\\ d = \\frac{(|\\mu - \\mu'|)}{\\sigma}\\]"
   ]
  },
  {
   "cell_type": "code",
   "execution_count": 14,
   "metadata": {
    "scrolled": true
   },
   "outputs": [
    {
     "data": {
      "text/latex": [
       "# binomial distribution pdf - giving a problem in Anki\n",
       "\\begin{equation}\n",
       "P(X = x) = {{n}\\choose{x}}p^x(1 - p)^{(n-x)}\n",
       "\\end{equation}"
      ],
      "text/plain": [
       "<IPython.core.display.Latex object>"
      ]
     },
     "metadata": {},
     "output_type": "display_data"
    }
   ],
   "source": [
    "%%latex\n",
    "# binomial distribution pdf - giving a problem in Anki\n",
    "\\begin{equation}\n",
    "P(X = x) = {{n}\\choose{x}}p^x(1 - p)^{(n-x)}\n",
    "\\end{equation}"
   ]
  },
  {
   "cell_type": "code",
   "execution_count": 15,
   "metadata": {
    "scrolled": true
   },
   "outputs": [
    {
     "data": {
      "text/latex": [
       "# binomial distribution pdf\n",
       "\\begin{equation}\n",
       "P(X = x) = {^nC_x} p^x(1 - p)^{(n-x)}\n",
       "\\end{equation}"
      ],
      "text/plain": [
       "<IPython.core.display.Latex object>"
      ]
     },
     "metadata": {},
     "output_type": "display_data"
    }
   ],
   "source": [
    "%%latex\n",
    "# binomial distribution pdf\n",
    "\\begin{equation}\n",
    "P(X = x) = {^nC_x} p^x(1 - p)^{(n-x)}\n",
    "\\end{equation}"
   ]
  },
  {
   "cell_type": "code",
   "execution_count": 16,
   "metadata": {
    "scrolled": true
   },
   "outputs": [
    {
     "data": {
      "text/latex": [
       "# Normal distribution\n",
       "\\begin{equation}\n",
       "P(x) = \\frac{1}{\\sigma\\sqrt{2\\pi}} e^{\\frac{-(x - \\mu)^2}{2\\sigma^2}}\n",
       "\\end{equation}"
      ],
      "text/plain": [
       "<IPython.core.display.Latex object>"
      ]
     },
     "metadata": {},
     "output_type": "display_data"
    }
   ],
   "source": [
    "%%latex\n",
    "# Normal distribution\n",
    "\\begin{equation}\n",
    "P(x) = \\frac{1}{\\sigma\\sqrt{2\\pi}} e^{\\frac{-(x - \\mu)^2}{2\\sigma^2}}\n",
    "\\end{equation}"
   ]
  },
  {
   "cell_type": "code",
   "execution_count": 22,
   "metadata": {},
   "outputs": [
    {
     "data": {
      "text/latex": [
       "#Welch's t statistic\n",
       "\\[t = \\frac{\\overline{x_1} - \\overline{x_2}}{\\sqrt{\\frac{\\sigma{1}^2}{n_1} + \\frac{\\sigma{2}^2}{n_2}}}\\]"
      ],
      "text/plain": [
       "<IPython.core.display.Latex object>"
      ]
     },
     "metadata": {},
     "output_type": "display_data"
    }
   ],
   "source": [
    "%%latex\n",
    "#Welch's t statistic\n",
    "\\[t = \\frac{\\overline{x_1} - \\overline{x_2}}{\\sqrt{\\frac{\\sigma{1}^2}{n_1} + \\frac{\\sigma{2}^2}{n_2}}}\\]"
   ]
  },
  {
   "cell_type": "code",
   "execution_count": 29,
   "metadata": {},
   "outputs": [
    {
     "data": {
      "text/latex": [
       "\\[\\frac{e^{x_i}}{\\sum_j{e^x_j}}\\]"
      ],
      "text/plain": [
       "<IPython.core.display.Latex object>"
      ]
     },
     "metadata": {},
     "output_type": "display_data"
    }
   ],
   "source": [
    "%%latex\n",
    "\\[\\frac{e^{x_i}}{\\sum_j{e^x_j}}\\]"
   ]
  },
  {
   "cell_type": "code",
   "execution_count": 7,
   "metadata": {},
   "outputs": [
    {
     "data": {
      "text/latex": [
       "\\[t = \\frac{\\overline{x_1} - \\overline{x_2}}{\\sqrt{\\frac{\\sigma{1}^2}{n_1} + \\frac{\\sigma{2}^2}{n_2}}}\\]"
      ],
      "text/plain": [
       "<IPython.core.display.Latex object>"
      ]
     },
     "metadata": {},
     "output_type": "display_data"
    }
   ],
   "source": [
    "%%latex\n",
    "\\[t = \\frac{\\overline{x_1} - \\overline{x_2}}{\\sqrt{\\frac{\\sigma{1}^2}{n_1} + \\frac{\\sigma{2}^2}{n_2}}}\\]"
   ]
  },
  {
   "cell_type": "code",
   "execution_count": 8,
   "metadata": {},
   "outputs": [
    {
     "data": {
      "text/latex": [
       "\\[P(A|B) = \\frac{1}{2}\\]"
      ],
      "text/plain": [
       "<IPython.core.display.Latex object>"
      ]
     },
     "metadata": {},
     "output_type": "display_data"
    }
   ],
   "source": [
    "%%latex\n",
    "\\[P(A|B) = \\frac{1}{2}\\]"
   ]
  },
  {
   "cell_type": "markdown",
   "metadata": {},
   "source": [
    "### Linear algebra"
   ]
  },
  {
   "cell_type": "markdown",
   "metadata": {},
   "source": [
    "###### Points vs vectors"
   ]
  },
  {
   "cell_type": "code",
   "execution_count": 17,
   "metadata": {},
   "outputs": [
    {
     "data": {
      "text/latex": [
       "# The dot product of 2 length-n vectors is defined as\n",
       "\\[A.B = \\sum_{i=1}^{n}{A_iB_i} \\]"
      ],
      "text/plain": [
       "<IPython.core.display.Latex object>"
      ]
     },
     "metadata": {},
     "output_type": "display_data"
    }
   ],
   "source": [
    "%%latex\n",
    "# The dot product of 2 length-n vectors is defined as\n",
    "\\[A.B = \\sum_{i=1}^{n}{A_iB_i} \\]"
   ]
  },
  {
   "cell_type": "code",
   "execution_count": 37,
   "metadata": {
    "scrolled": false
   },
   "outputs": [
    {
     "data": {
      "text/latex": [
       "We can use the dot product operation to compute the angle \\[\\theta = \\angle{AOB}\\]  \n",
       "between vectors A and B, where O is the origin.\\[ \\]\n",
       "||A|| is the length of \"A\". Length of a vector is the quantity to divide the vector to make it a unit vector"
      ],
      "text/plain": [
       "<IPython.core.display.Latex object>"
      ]
     },
     "metadata": {},
     "output_type": "display_data"
    }
   ],
   "source": [
    "%%latex\n",
    "We can use the dot product operation to compute the angle \\[\\theta = \\angle{AOB}\\]  \n",
    "between vectors A and B, where O is the origin.\\[ \\]\n",
    "||A|| is the length of \"A\". Length of a vector is the quantity to divide the vector to make it a unit vector"
   ]
  },
  {
   "cell_type": "code",
   "execution_count": 12,
   "metadata": {},
   "outputs": [],
   "source": [
    "a = np.array([1, 2, 3])\n",
    "b = np.array([3, 2, 1])"
   ]
  },
  {
   "cell_type": "code",
   "execution_count": 13,
   "metadata": {},
   "outputs": [
    {
     "data": {
      "text/plain": [
       "(array([1, 2, 3]), array([3, 2, 1]))"
      ]
     },
     "execution_count": 13,
     "metadata": {},
     "output_type": "execute_result"
    }
   ],
   "source": [
    "a, b"
   ]
  },
  {
   "cell_type": "code",
   "execution_count": null,
   "metadata": {},
   "outputs": [],
   "source": []
  },
  {
   "cell_type": "markdown",
   "metadata": {},
   "source": [
    "Collaborative filtering \n",
    "\n",
    "Stochastic gradient descent \n",
    "\n",
    "AIC/BIC "
   ]
  },
  {
   "cell_type": "code",
   "execution_count": 16,
   "metadata": {},
   "outputs": [
    {
     "data": {
      "text/latex": [
       "# Bayes' theorum formula\n",
       "\\begin{equation}\n",
       "P(A|B) = \\frac{P(B|A)P(A)}{P(B)}\n",
       "\\end{equation}"
      ],
      "text/plain": [
       "<IPython.core.display.Latex object>"
      ]
     },
     "metadata": {},
     "output_type": "display_data"
    }
   ],
   "source": [
    "%%latex\n",
    "# Bayes' theorum formula\n",
    "\\begin{equation}\n",
    "P(A|B) = \\frac{P(B|A)P(A)}{P(B)}\n",
    "\\end{equation}"
   ]
  },
  {
   "cell_type": "code",
   "execution_count": 18,
   "metadata": {},
   "outputs": [
    {
     "data": {
      "text/latex": [
       "# logit function\n",
       "\\[logit(p) = \\frac{p}{(1-p)}\\]  "
      ],
      "text/plain": [
       "<IPython.core.display.Latex object>"
      ]
     },
     "metadata": {},
     "output_type": "display_data"
    }
   ],
   "source": [
    "%%latex\n",
    "# logit function\n",
    "\\[logit(p) = \\frac{p}{(1-p)}\\]  "
   ]
  },
  {
   "cell_type": "code",
   "execution_count": 36,
   "metadata": {},
   "outputs": [
    {
     "data": {
      "text/latex": [
       "# logistic regression cost function for gradient descent\n",
       "\n",
       "\\[J(w) = - \\sum_{i}y^{(i)}log(\\phi(z^{(i)}))+(1-y^{(i)})log(1-\\phi(z^{(i)}))\\]\n",
       "where\n",
       "\\[\\phi(z) = \\frac{1}{1+e^{-z}}\\]"
      ],
      "text/plain": [
       "<IPython.core.display.Latex object>"
      ]
     },
     "metadata": {},
     "output_type": "display_data"
    }
   ],
   "source": [
    "%%latex\n",
    "# logistic regression cost function for gradient descent\n",
    "\n",
    "\\[J(w) = - \\sum_{i}y^{(i)}log(\\phi(z^{(i)}))+(1-y^{(i)})log(1-\\phi(z^{(i)}))\\]\n",
    "where\n",
    "\\[\\phi(z) = \\frac{1}{1+e^{-z}}\\]"
   ]
  },
  {
   "cell_type": "code",
   "execution_count": 52,
   "metadata": {},
   "outputs": [
    {
     "data": {
      "text/latex": [
       "# Regularization term for L2 regularization\n",
       "\n",
       "\\[\\lambda||w||^2 = \\frac{\\lambda}{2}\\sum_{j=1}^{m}w_j^2 \\]"
      ],
      "text/plain": [
       "<IPython.core.display.Latex object>"
      ]
     },
     "metadata": {},
     "output_type": "display_data"
    }
   ],
   "source": [
    "%%latex\n",
    "# Regularization term for L2 regularization\n",
    "\n",
    "\\[\\lambda||w||^2 = \\frac{\\lambda}{2}\\sum_{j=1}^{m}w_j^2 \\]"
   ]
  },
  {
   "cell_type": "code",
   "execution_count": 62,
   "metadata": {},
   "outputs": [
    {
     "data": {
      "text/latex": [
       "# Objective function to maximize information gain\n",
       "\n",
       "\\[IG(D_p,f) = I(D_p)-\\sum_{j=1}^{m}\\frac{N_j}{N_p}I(D_j)\\]\n",
       "\n",
       "where f is the feature to perform the split, D_p and D_j ar ehte dataset of the parent and the jth child node,\n",
       "I is our impurity measure, N_p is the total number of samples at the parent node and N_j is the number of samples in \n",
       "the jth child node."
      ],
      "text/plain": [
       "<IPython.core.display.Latex object>"
      ]
     },
     "metadata": {},
     "output_type": "display_data"
    }
   ],
   "source": [
    "%%latex\n",
    "# Objective function to maximize information gain\n",
    "\n",
    "\\[IG(D_p,f) = I(D_p)-\\sum_{j=1}^{m}\\frac{N_j}{N_p}I(D_j)\\]\n",
    "\n",
    "where f is the feature to perform the split, D_p and D_j ar ehte dataset of the parent and the jth child node,\n",
    "I is our impurity measure, N_p is the total number of samples at the parent node and N_j is the number of samples in \n",
    "the jth child node."
   ]
  },
  {
   "cell_type": "markdown",
   "metadata": {},
   "source": [
    "There are 3 impurity criteria\n",
    "1. Entropy\n",
    "2. Gini index\n",
    "3. Classification error"
   ]
  },
  {
   "cell_type": "code",
   "execution_count": 66,
   "metadata": {},
   "outputs": [
    {
     "data": {
      "text/latex": [
       "# Entropy"
      ],
      "text/plain": [
       "<IPython.core.display.Latex object>"
      ]
     },
     "metadata": {},
     "output_type": "display_data"
    }
   ],
   "source": [
    "%%latex\n",
    "# Entropy\n"
   ]
  },
  {
   "cell_type": "code",
   "execution_count": null,
   "metadata": {},
   "outputs": [],
   "source": []
  }
 ],
 "metadata": {
  "kernelspec": {
   "display_name": "Python 3",
   "language": "python",
   "name": "python3"
  },
  "language_info": {
   "codemirror_mode": {
    "name": "ipython",
    "version": 3
   },
   "file_extension": ".py",
   "mimetype": "text/x-python",
   "name": "python",
   "nbconvert_exporter": "python",
   "pygments_lexer": "ipython3",
   "version": "3.7.6"
  }
 },
 "nbformat": 4,
 "nbformat_minor": 2
}
