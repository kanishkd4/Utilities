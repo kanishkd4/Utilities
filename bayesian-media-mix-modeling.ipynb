{
 "cells": [
  {
   "cell_type": "markdown",
   "metadata": {},
   "source": [
    "https://discourse.pymc.io/t/a-bayesian-approach-to-media-mix-modeling-by-michael-johns-zhenyu-wang/6024\n",
    "\n",
    "http://www.guillaumenicaise.com/wp-content/uploads/2013/10/Borden-1984_The-concept-of-marketing-mix.pdf"
   ]
  },
  {
   "cell_type": "code",
   "execution_count": 1,
   "metadata": {},
   "outputs": [],
   "source": [
    "from IPython.core.interactiveshell import InteractiveShell\n",
    "InteractiveShell.ast_node_interactivity = \"all\""
   ]
  },
  {
   "cell_type": "markdown",
   "metadata": {},
   "source": [
    "predictors = weekly marketing spend in each channel, transformed\n",
    "* non linear functional transformation to account for diminishing returns on spend\n",
    "* adstock tranformation of channel spend to account for lagged effects of advertising"
   ]
  },
  {
   "cell_type": "markdown",
   "metadata": {},
   "source": [
    "Reach function: non linear shape function with a single parameter mu to capture diminishing returns on spend\n",
    "<br>mu controls how quickly the curve will saturate. mu = 1 gives a linear curve\n",
    "$$\n",
    "[\\frac{1 - e^{-\\mu x_mt}}{1 + e^{-\\mu x_mt}}]\n",
    "$$"
   ]
  },
  {
   "cell_type": "markdown",
   "metadata": {},
   "source": [
    "\n",
    "Adstock to capture carry over effects of marketing: allow marketing signal to decay over time<br>\n",
    "This is a geometric decay. <br>\n",
    "As alpha goes up, the decay rate slows down and the impact of the marketing is assumed over a longer period of time\n",
    "\n",
    "$$\n",
    "[\\frac{\\sum_{l=0}^{t-1} \\alpha^l x_{t-l}}{\\sum_{l=0}^{t-1}\\alpha^l}\\\n",
    "$$"
   ]
  },
  {
   "cell_type": "markdown",
   "metadata": {},
   "source": [
    "Bayesian methods can\n",
    "1. set constraints on model parameters\n",
    "2. incorporate existing knowledge using priors\n",
    "3. help learn saturation and decay parameters. as a part of model fitting\n",
    "4. produce a generative model that is well suited simulation"
   ]
  },
  {
   "cell_type": "markdown",
   "metadata": {},
   "source": [
    "Base model likelihood and prior structure\n",
    "$$\n",
    "\\begin{equation}\n",
    "y_t = \\alpha + \\sum_{m=1}^{M} \\beta_m f(x_{t,m}) + \\sum_{c=1}^c \\beta_cZ_{t,c} + e_t\n",
    "\\end{equation}\n",
    "$$\n",
    "where\n",
    "\n",
    "$y_t$ = new customers expected value (scaled) \\\n",
    "$\\beta_m$ = is the marketing channel that is instantiated with a prior, m is the number of marketing channels \\\n",
    "$\\beta_c$ = the beta for the control variable  \\\n",
    "$\\alpha$ = a prior for the alpha parameter for the adstock transformation we apply to a subset for our channels. \\\n",
    "$mu$ = A prior for mu that controls the saturation curve for each channel. \\\n",
    "$e_t$ = prior for our noise term\\\n",
    "m = number of marketing channels"
   ]
  },
  {
   "cell_type": "markdown",
   "metadata": {},
   "source": [
    "#### Base model priors\n",
    "The likelihood is a normal distribution\n",
    "mu is a function of the linear model and sigma will stand in for the standard deviation\n",
    "This has 5 control variables and 12 channels. All marketing channels are transformed with the saturation function but only a subset is transformed with the adstock function to represent and try to capture decay and effects. All variables are scaled between [0,1]\n",
    "\n",
    "1. The beta priors are half normal so spends are never negative. \n",
    "2. alpha channels/adstock function is a beta distribution https://docs.pymc.io/api/distributions/continuous.html#pymc3.distributions.continuous.Beta\n",
    "3. For saturation, the prior is a gamma https://docs.pymc.io/api/distributions/continuous.html#pymc3.distributions.continuous.Gamma\n",
    "4. sigma term is an exponential distribution\n",
    "\n",
    "beta_Control_l = Normal(mu = 0.0, sigma = 0.25) <br> \n",
    "beta_Control_2 = Normal(mu = 0.0, sigma = 0.25) <br> \n",
    "beta_Control_3 = Normal(mu = 0.0, sigma = 0.25) <br> \n",
    "beta_month_ = Normal(mu = 0.0, sigma = 0.25) <br> \n",
    "beta_year_2020 Normal(mu = 0.0, sigma = 0.25) <br> \n",
    "beta_Channel_1_spend_scale = HalfNormal(sigma = 5.0) <br> \n",
    "alpha_Channel_1_spend_scale = Beta(alpha = 3.0, beta = 3.0) <br> \n",
    "mu_Channel_l_spend_scale = Gamma(alpha = 3.0. beta = 1.0) <br> \n",
    "\n",
    "beta_Channel_10_spend_scale = HalfNormal(sigma = 5.0) <br>\n",
    "alpha_Channel_10_spend_scale = Beta(alpha = 3.0. beta = 3.0) <br> \n",
    "mu_Channel_10_spend_scale = Gamma(alpha = 3.0. beta = 1.0) <br> \n",
    "\n",
    "beta_Channel_2_spend_scale = HalfNormal(sigma = 5.0) <br> \n",
    "alpha_Channel_2_spend_scale = Beta(alpha = 3.0 beta = 3.0) <br> \n",
    "mu_Channel_2_spend_scale = Gamma(alpha = 3.0. beta = 1.0) <br> \n",
    "\n",
    "beta_Channel_3_spend_scale = HalfNormal(sigma = 5.0) <br> \n",
    "alpha_Channel_3_spend_scale = Beta(alpha = 3.0. beta = 3.0) <br> \n",
    "mu_Channel3_spend_scale = Gamma(alpha = 3.0. beta = 1.0) <br> \n",
    "\n",
    "beta_Channel4_spend_scale = HalfNormal(sigma = 5.0) <br> \n",
    "muChannel_4_spend_scale = Gamma(alpha = 3.0. beta = 1.0) <br> \n",
    "\n",
    "beta_Channel_7_spend_scale = HalfNormal(sigma = 5.0) <br> \n",
    "mu_Channel_7_spend_scale = Gamma(alpha = 3.0, beta = 1.0) <br> \n",
    "\n",
    "beta_Channel_5_spend_scale = HalfNormal(sigma = 5.0) <br> \n",
    "muChannel_5_spend_scale = Gamma(alpha = 3.0. beta = 1.0) <br> \n",
    "\n",
    "beta_Channel_6_spend_scale = HalfNormal(sigma = 5.0) <br> \n",
    "mu_Channel_6_spend_scale = Gamma(alpha = 3.0, beta = 1.0) <br> \n",
    "\n",
    "beta_Channel_9_spend_scale = HalfNormal(sigma = 5.0) <br> \n",
    "mu_Channel_9_spend_scale = Gamma(alpha = 3.0, beta = 1.0) <br> \n",
    "\n",
    "beta_Channel_11_spend_scale = HalfNormal(sigma = 5.0) <br> \n",
    "mu_Channel_ll_spend_scale Gamma(alpha = 3.0, beta = 1.0) <br> \n",
    "\n",
    "beta_Channel_12_spend_scale = HalfNormal(sigma = 5.0) <br> \n",
    "mu_Channel_12_spend_scale Gamma(alpha = 3.0. been = 1.0) <br> \n",
    "\n",
    "sigma = Exponential(lam = 10.0) \n"
   ]
  },
  {
   "cell_type": "markdown",
   "metadata": {},
   "source": [
    "### Data sample\n",
    "12 weeks of user registrations with 12 marketing channels"
   ]
  },
  {
   "cell_type": "code",
   "execution_count": 2,
   "metadata": {},
   "outputs": [],
   "source": [
    "import numpy as np\n",
    "import pandas as pd\n",
    "import pymc3 as pm\n",
    "from pymc3 import *\n"
   ]
  },
  {
   "cell_type": "code",
   "execution_count": 3,
   "metadata": {},
   "outputs": [],
   "source": [
    "d = {}\n",
    "for i in range(1, 13, 1):\n",
    "    d[f\"channel_{i}\"] = np.random.uniform(0, 1, 12)"
   ]
  },
  {
   "cell_type": "code",
   "execution_count": 4,
   "metadata": {
    "scrolled": false
   },
   "outputs": [],
   "source": [
    "df_in = pd.DataFrame(d)"
   ]
  },
  {
   "cell_type": "code",
   "execution_count": 5,
   "metadata": {},
   "outputs": [],
   "source": [
    "df_in[\"y\"] = np.random.uniform(0, 1, 12)"
   ]
  },
  {
   "cell_type": "markdown",
   "metadata": {},
   "source": [
    "### Model layout"
   ]
  },
  {
   "cell_type": "code",
   "execution_count": 31,
   "metadata": {},
   "outputs": [],
   "source": [
    "delay_channels = [\"channel_1\", \"channel_2\", \"channel_3\", \"channel_10\"] # channels that can have both decay and saturation effects\n",
    "non_lin_channels = [\"channel_4\", \"channel_5\", \"channel_6\", \"channel_7\", \n",
    "                    \"channel_12\", \"channel_11\", \"channel_9\", \"channel_8\"]"
   ]
  },
  {
   "cell_type": "code",
   "execution_count": 36,
   "metadata": {},
   "outputs": [],
   "source": [
    "def logistic_function(x_t, mu=0.1):\n",
    "    return (1 - np.exp(-mu * x_t)) / (1 + np.exp(-mu * x_t))\n",
    "\n",
    "import theano.tensor as tt\n",
    "def geometric_adstock_tt(x_t, alpha=0, L=12, normalize=True):\n",
    "    w = tt.as_tensor_variable([tt.power(alpha, i) for i in range(L)])\n",
    "    xx = tt.stack([tt.concatenate([tt.zeros(i), x_t[:x_t.shape[0] - i]]) for i in range(L)])\n",
    "    \n",
    "    if not normalize:\n",
    "        y = tt.dot(w, xx)\n",
    "    else:\n",
    "        y = tt.dot(w // tt.sum(w), xx)\n",
    "    return y"
   ]
  },
  {
   "cell_type": "code",
   "execution_count": 40,
   "metadata": {},
   "outputs": [
    {
     "name": "stdout",
     "output_type": "stream",
     "text": [
      "Adding delayed channel: channel_1\n",
      "Adding delayed channel: channel_2\n",
      "Adding delayed channel: channel_3\n",
      "Adding delayed channel: channel_10\n",
      "Adding non linear logistic channel: channel_4\n",
      "Adding non linear logistic channel: channel_5\n",
      "Adding non linear logistic channel: channel_6\n",
      "Adding non linear logistic channel: channel_7\n",
      "Adding non linear logistic channel: channel_12\n",
      "Adding non linear logistic channel: channel_11\n",
      "Adding non linear logistic channel: channel_9\n",
      "Adding non linear logistic channel: channel_8\n"
     ]
    }
   ],
   "source": [
    "with Model() as model:\n",
    "    response_mean = []\n",
    "    # channels that can have decay and saturation effects.\n",
    "    for channel_name in delay_channels:\n",
    "        xx = df_in[channel_name].values\n",
    "        print(f\"Adding delayed channel: {channel_name}\")\n",
    "        channel_b = HalfNormal(f\"beta_{channel_name}\", sd=5)\n",
    "        alpha = Beta(f\"alpha_{channel_name}\", alpha=3, beta=3)\n",
    "        channel_mu = Gamma(f\"mu_{channel_name}\", alpha=3, beta=1)\n",
    "        # we transform the marketing spend with the adstock and then that transformed version is fed to the logistic\n",
    "        # reach function that models our saturation. \n",
    "        response_mean.append(logistic_function(geometric_adstock_tt(xx, alpha), channel_mu) * channel_b)\n",
    "    \n",
    "    # channels that can have decay and saturation effects\n",
    "    for channel_name in non_lin_channels:\n",
    "        xx = df_in[channel_name].values\n",
    "        \n",
    "        print(f\"Adding non linear logistic channel: {channel_name}\")\n",
    "        channel_b = HalfNormal(f\"beta_{channel_name}\", sd=5)\n",
    "        \n",
    "        # logistic reach curve\n",
    "        channel_mu = Gamma(f\"mu_{channel_name}\", alpha=3, beta=1)\n",
    "        response_mean.append(logistic_function(xx, channel_mu) * channel_b)\n",
    "        \n",
    "    # Continuous control variables\n",
    "#     if control_vars:\n",
    "#         for channel_name in control_vars:\n",
    "#             x = df_in[channel_name]\n",
    "#             print(f\"adding control: {channel_name}\")\n",
    "#             control_beta = Normal(f\"beta_{channel_name}\", s=0.25)\n",
    "#             channel_contrib = control_beta * x\n",
    "#             response_mean.append(channel_contrib)\n",
    "    \n",
    "#     # Categorical control variables.\n",
    "#     if index_vars:\n",
    "#         for var_name in index_vars:\n",
    "#             shape = len(df_in[var_name].unique())\n",
    "#             x = df_in[var_name].values\n",
    "            \n",
    "#             print(f\"adding index variable : {var_name}\")\n",
    "#             ind_beta = Normal(f\"beta_{var_name}\", sd=5, shape=shape)\n",
    "#             channel_contrib = ind_beta[x]\n",
    "#             response_mean.append(channel_contrib)\n",
    "            \n",
    "    sigma = Exponential(\"sigma\", 10)\n",
    "    likelihood = Normal(\"y\", mu=sum(response_mean), sd=sigma, observed=df_in[\"y\"].values)"
   ]
  },
  {
   "cell_type": "code",
   "execution_count": null,
   "metadata": {},
   "outputs": [],
   "source": []
  },
  {
   "cell_type": "code",
   "execution_count": null,
   "metadata": {},
   "outputs": [],
   "source": []
  },
  {
   "cell_type": "code",
   "execution_count": null,
   "metadata": {},
   "outputs": [],
   "source": []
  },
  {
   "cell_type": "code",
   "execution_count": null,
   "metadata": {},
   "outputs": [],
   "source": []
  },
  {
   "cell_type": "code",
   "execution_count": null,
   "metadata": {},
   "outputs": [],
   "source": []
  },
  {
   "cell_type": "code",
   "execution_count": null,
   "metadata": {},
   "outputs": [],
   "source": []
  }
 ],
 "metadata": {
  "kernelspec": {
   "display_name": "Python [conda env:pymc]",
   "language": "python",
   "name": "conda-env-pymc-py"
  },
  "language_info": {
   "codemirror_mode": {
    "name": "ipython",
    "version": 3
   },
   "file_extension": ".py",
   "mimetype": "text/x-python",
   "name": "python",
   "nbconvert_exporter": "python",
   "pygments_lexer": "ipython3",
   "version": "3.9.2"
  }
 },
 "nbformat": 4,
 "nbformat_minor": 4
}
